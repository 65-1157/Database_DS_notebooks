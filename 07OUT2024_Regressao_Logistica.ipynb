{
  "nbformat": 4,
  "nbformat_minor": 0,
  "metadata": {
    "colab": {
      "provenance": []
    },
    "kernelspec": {
      "name": "python3",
      "display_name": "Python 3"
    },
    "language_info": {
      "name": "python"
    }
  },
  "cells": [
    {
      "cell_type": "code",
      "execution_count": null,
      "metadata": {
        "id": "smiZI4Pim8F0"
      },
      "outputs": [],
      "source": [
        "# Importar bibliotecas\n",
        "from sklearn.linear_model import LogisticRegression\n",
        "from sklearn.metrics import confusion_matrix, ConfusionMatrixDisplay\n",
        "import seaborn as sns\n",
        "\n",
        "# Preparar dados para Regressao Logistica\n",
        "df['purchase_electronics'] = df['product_category'].apply(lambda x: 1 if x == 'Electronics' else 0)\n",
        "\n",
        "# Definir o que é input (X) e output (Y)\n",
        "X = df[['age', 'gender']]\n",
        "y = df['purchase_electronics']\n",
        "\n",
        "# Separar os dados\n",
        "X_train, X_test, y_train, y_test = train_test_split(X, y, test_size=0.2, random_state=42)\n",
        "\n",
        "# Preparar a regressao_logistica\n",
        "log_model = LogisticRegression()\n",
        "log_model.fit(X_train, y_train)\n",
        "\n",
        "# Executar a regressao_logistica\n",
        "y_pred_log = log_model.predict(X_test)\n",
        "\n",
        "# Fazer a matrix de confusao\n",
        "cm = confusion_matrix(y_test, y_pred_log)\n",
        "disp = ConfusionMatrixDisplay(confusion_matrix=cm)\n",
        "disp.plot(cmap='Blues')\n",
        "\n",
        "plt.title('Confusion Matrix - Logistic Regression')\n",
        "plt.show()\n",
        "\n",
        "# Matriz de confusao - detalhes\n",
        "sns.heatmap(cm, annot=True, fmt='d', cmap='Blues',\n",
        "            cbar=False, xticklabels=['Not Electronics', 'Electronics'],\n",
        "            yticklabels=['Not Electronics', 'Electronics'])\n",
        "plt.title('Confusion Matrix - Logistic Regression')\n",
        "plt.xlabel('Predicted')\n",
        "plt.ylabel('Actual')\n",
        "plt.show()\n"
      ]
    }
  ]
}