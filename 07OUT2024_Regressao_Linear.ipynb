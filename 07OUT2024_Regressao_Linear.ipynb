{
  "nbformat": 4,
  "nbformat_minor": 0,
  "metadata": {
    "colab": {
      "provenance": []
    },
    "kernelspec": {
      "name": "python3",
      "display_name": "Python 3"
    },
    "language_info": {
      "name": "python"
    }
  },
  "cells": [
    {
      "cell_type": "code",
      "execution_count": null,
      "metadata": {
        "id": "iA4A3xGKlne2"
      },
      "outputs": [],
      "source": [
        "# importar as bibliotecas\n",
        "import pandas as pd\n",
        "from sklearn.model_selection import train_test_split\n",
        "from sklearn.linear_model import LinearRegression\n",
        "import matplotlib.pyplot as plt\n",
        "\n",
        "# Inputa-Dados - arquivo csv\n",
        "df = pd.read_csv('oracle_data.csv')\n",
        "\n",
        "# Transformacao_Dados: atribuir numeros para tipos de generos\n",
        "df['gender'] = df['gender'].map({'Male': 0, 'Female': 1})\n",
        "\n",
        "# Definir o que é input (X) e o que é saída (Y)\n",
        "X = df[['age', 'gender']]\n",
        "y = df['amount']\n",
        "\n",
        "# Separar os dados entre grupo de treino e teste\n",
        "X_train, X_test, y_train, y_test = train_test_split(X, y, test_size=0.2, random_state=42)\n",
        "\n",
        "# Preparar a regressao linear\n",
        "model = LinearRegression()\n",
        "model.fit(X_train, y_train)\n",
        "\n",
        "# Predizer ou executar o modelo de regressao\n",
        "y_pred = model.predict(X_test)\n",
        "\n",
        "# Visualizar os resultados\n",
        "plt.scatter(X_test['age'], y_test, color='blue', label='Actual')\n",
        "plt.scatter(X_test['age'], y_pred, color='red', label='Predicted')\n",
        "plt.title('Linear Regression - Age vs Amount')\n",
        "plt.xlabel('Age')\n",
        "plt.ylabel('Amount')\n",
        "plt.legend()\n",
        "plt.show()\n"
      ]
    }
  ]
}